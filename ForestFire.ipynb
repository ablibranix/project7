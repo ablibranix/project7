{
 "cells": [
  {
   "cell_type": "code",
   "execution_count": null,
   "id": "356900af",
   "metadata": {},
   "outputs": [],
   "source": [
    "import pandas as pd\n",
    "import seaborn as sns\n",
    "import matplotlib.pyplot as plt\n",
    "from sklearn.linear_model import LogisticRegression\n",
    "from sklearn.preprocessing import StandardScaler"
   ]
  },
  {
   "cell_type": "markdown",
   "id": "13c4ec0d",
   "metadata": {},
   "source": [
    "## Prepare the Data"
   ]
  },
  {
   "cell_type": "code",
   "execution_count": null,
   "id": "aa4b252d",
   "metadata": {},
   "outputs": [],
   "source": [
    "df = pd.read_csv(\"Data/forestfires.csv\")\n",
    "print(df.shape)\n",
    "df"
   ]
  },
  {
   "cell_type": "code",
   "execution_count": null,
   "id": "8d0c42c8",
   "metadata": {},
   "outputs": [],
   "source": [
    "# Drop any rows with missing values\n",
    "df.dropna(inplace=True)"
   ]
  },
  {
   "cell_type": "markdown",
   "id": "5b1a8d1b",
   "metadata": {},
   "source": [
    "## Charts "
   ]
  },
  {
   "cell_type": "code",
   "execution_count": null,
   "id": "5399f817",
   "metadata": {},
   "outputs": [],
   "source": [
    "# Changing months from string to integers for graphing and storing in monthDF, a copy of df\n",
    "monthDF = df.copy()\n",
    "month_dict = {'jan': 1, 'feb': 2, 'mar': 3, 'apr': 4, 'may': 5, 'jun': 6,\n",
    "              'jul': 7, 'aug': 8, 'sep': 9, 'oct': 10, 'nov': 11, 'dec': 12}\n",
    "monthDF['month'] = monthDF['month'].map(month_dict)"
   ]
  },
  {
   "cell_type": "code",
   "execution_count": null,
   "id": "c64114af",
   "metadata": {},
   "outputs": [],
   "source": [
    "# FFMC amount per month\n",
    "plt.scatter(monthDF[\"month\"], monthDF[\"FFMC\"], s=3)\n",
    "plt.xlabel('Month')\n",
    "plt.ylabel('FFMC')\n",
    "plt.title('FFMC per Month')\n",
    "plt.show()"
   ]
  },
  {
   "cell_type": "code",
   "execution_count": null,
   "id": "011ae101",
   "metadata": {},
   "outputs": [],
   "source": [
    "# Burned ha per month\n",
    "plt.scatter(monthDF[\"month\"], monthDF[\"area\"], s=3)\n",
    "plt.xlabel('Month')\n",
    "plt.ylabel('Burned Area in ha')\n",
    "plt.title('Burned Area per hectare ')\n",
    "plt.show()"
   ]
  },
  {
   "cell_type": "code",
   "execution_count": null,
   "id": "52c56146",
   "metadata": {},
   "outputs": [],
   "source": [
    "# Number of fires per month\n",
    "by_month = monthDF.groupby('month')['X'].count()\n",
    "plt.plot(by_month.index, by_month.values)\n",
    "plt.xlabel('Month')\n",
    "plt.ylabel('Number of Occurrences')\n",
    "plt.title('Fire Occurrences Over Time')\n",
    "plt.show()"
   ]
  },
  {
   "cell_type": "markdown",
   "id": "62ea8681",
   "metadata": {},
   "source": [
    "## Apply Logistic Regression"
   ]
  },
  {
   "cell_type": "code",
   "execution_count": null,
   "id": "7f7ff7a0",
   "metadata": {},
   "outputs": [],
   "source": [
    "# Convert categorical variables to numerical using one-hot encoding\n",
    "df = pd.get_dummies(df, columns=['month', 'day'])"
   ]
  },
  {
   "cell_type": "code",
   "execution_count": null,
   "id": "7965884e",
   "metadata": {},
   "outputs": [],
   "source": [
    "# Convert the target variable to a binary variable indicating whether or not a fire occurred\n",
    "# Threshold is mean of area column\n",
    "threshold = 12.8\n",
    "df['fire'] = (df['area'] > threshold).astype(int)\n",
    "\n",
    "# Separate the features (X) from the target variable (Y)\n",
    "X = df[['wind', 'temp', 'RH', 'rain']]\n",
    "Y = df['fire']"
   ]
  },
  {
   "cell_type": "code",
   "execution_count": null,
   "id": "84b54810",
   "metadata": {},
   "outputs": [],
   "source": [
    "# Standardize the features using a StandardScaler object\n",
    "scaler = StandardScaler()\n",
    "X = scaler.fit_transform(X)\n",
    "\n",
    "# Fit a logistic regression model to the standardized data\n",
    "model = LogisticRegression()\n",
    "model.fit(X, Y)\n",
    "\n",
    "# Print the coefficients of the model\n",
    "print(model.coef_)"
   ]
  },
  {
   "cell_type": "code",
   "execution_count": null,
   "id": "f499d2c7",
   "metadata": {},
   "outputs": [],
   "source": []
  },
  {
   "cell_type": "markdown",
   "id": "a544be19",
   "metadata": {},
   "source": [
    "## Apply SVM"
   ]
  },
  {
   "cell_type": "code",
   "execution_count": null,
   "id": "f7a63764",
   "metadata": {},
   "outputs": [],
   "source": []
  },
  {
   "cell_type": "code",
   "execution_count": null,
   "id": "1b640b42",
   "metadata": {},
   "outputs": [],
   "source": []
  },
  {
   "cell_type": "code",
   "execution_count": null,
   "id": "6102b165",
   "metadata": {},
   "outputs": [],
   "source": []
  }
 ],
 "metadata": {
  "kernelspec": {
   "display_name": "Python 3 (ipykernel)",
   "language": "python",
   "name": "python3"
  },
  "language_info": {
   "codemirror_mode": {
    "name": "ipython",
    "version": 3
   },
   "file_extension": ".py",
   "mimetype": "text/x-python",
   "name": "python",
   "nbconvert_exporter": "python",
   "pygments_lexer": "ipython3",
   "version": "3.11.1"
  }
 },
 "nbformat": 4,
 "nbformat_minor": 5
}
